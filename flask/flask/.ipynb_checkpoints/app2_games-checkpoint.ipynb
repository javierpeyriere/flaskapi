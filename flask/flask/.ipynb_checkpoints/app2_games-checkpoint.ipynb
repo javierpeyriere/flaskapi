{
 "cells": [
  {
   "cell_type": "code",
   "execution_count": 1,
   "id": "3b4fe7fb",
   "metadata": {},
   "outputs": [],
   "source": [
    "# Let's write your code here!\n",
    "\n",
    "from flask import Flask, request, abort\n",
    "from flask_basicauth import BasicAuth\n",
    "import json\n",
    "import pymysql\n",
    "import os\n",
    "import math\n",
    "\n",
    "app = Flask(__name__)\n",
    "app.config.from_file(\"flask_config.json\", load=json.load)\n",
    "app.config['BASIC_AUTH_FORCE']=True       # Reinforces the security to ask the login and password each time\n",
    "auth = BasicAuth(app)\n",
    "\n",
    "\n"
   ]
  },
  {
   "cell_type": "code",
   "execution_count": 2,
   "id": "1c198480",
   "metadata": {},
   "outputs": [],
   "source": [
    "@app.route(\"/movies/<int:movie_id>\")\n",
    "@auth.required\n",
    "def movie(movie_id):\n",
    "    \"\"\"the overall function\"\"\"\n",
    "\n",
    "    def remove_null_fields(obj):\n",
    "        \"\"\"The function to remove the null fields in the 'columns of sql\"\"\"\n",
    "        return {k:v for k, v in obj.items() if v is not None}\n",
    "\n",
    "    db_conn = pymysql.connect(host=\"localhost\", user=\"root\", password = \"Alsimar10\", database=\"bechdel\",\n",
    "                              cursorclass=pymysql.cursors.DictCursor)\n",
    "    with db_conn.cursor() as cursor:   # for movies, changing the names and keeping only the columns we want\n",
    "        cursor.execute(\"\"\"SELECT\n",
    "                            M.movieId,\n",
    "                            M.originalTitle,\n",
    "                            M.primaryTitle AS englishTitle,\n",
    "                            B.rating AS bechdelScore,\n",
    "                            M.runtimeMinutes,\n",
    "                            M.startYear AS Year,\n",
    "                            M.movieType,\n",
    "                            M.isAdult,\n",
    "                            case \n",
    "                                when B.rating > 2 then 'True'\n",
    "                                else 'False'\n",
    "                            end as bechdelTest\n",
    "                        FROM Movies M\n",
    "                        JOIN Bechdel B ON B.movieId = M.movieId \n",
    "                        WHERE M.movieId=%s\"\"\", (movie_id, ))\n",
    "        movie = cursor.fetchone()\n",
    "        if not movie:\n",
    "            abort (404)\n",
    "        movie = remove_null_fields(movie)  # removing the null values using the function defined above\n",
    "\n",
    "    with db_conn.cursor() as cursor: # for genre\n",
    "        cursor.execute(\"\"\"SELECT * FROM MoviesGenres WHERE movieId=%s\"\"\", (movie_id, ))\n",
    "        genres = cursor.fetchall()\n",
    "        movie['genres'] = [g['genre'] for g in genres]\n",
    "\n",
    "    with db_conn.cursor() as cursor:  # for people\n",
    "        cursor.execute(\"\"\"SELECT\n",
    "                            P.personId,\n",
    "                            P.primaryName AS name,\n",
    "                            P.birthYear,\n",
    "                            P.deathYear,\n",
    "                            MP.job,\n",
    "                            MP.category AS role\n",
    "                        FROM MoviesPeople MP\n",
    "                        JOIN People P on P.personId = MP.personId\n",
    "                        WHERE MP.movieId=%s\"\"\", (movie_id, ))\n",
    "        people = cursor.fetchall()\n",
    "        movie['people'] = [remove_null_fields(p) for p in people]\n",
    "    \n",
    "\n",
    "    db_conn.close() \n",
    "\n",
    "    #movie['bechdelTest']=movie['bechdelScore'].apply(lambda x : True if int(x)>0 else False) # my attempt of doing the boolean test via python\n",
    "\n",
    "    return movie\n"
   ]
  },
  {
   "cell_type": "code",
   "execution_count": 3,
   "id": "9359dac2",
   "metadata": {},
   "outputs": [],
   "source": [
    "\n",
    "PAGE_SIZE = 30  # initialising my variables\n",
    "MAX_PAGE_SIZE = 30\n",
    "\n",
    "@app.route(\"/movies\")\n",
    "@auth.required\n",
    "def movies():\n",
    "    \"\"\"the overall function for the movies per page\"\"\"\n",
    "\n",
    "    def remove_null_fields(obj):\n",
    "        \"\"\"The function to remove the null fields in the 'columns of sql\"\"\"\n",
    "        return {k:v for k, v in obj.items() if v is not None}\n",
    "\n",
    "    page = int(request.args.get('page',0))\n",
    "    page_size = int(request.args.get('page_size', MAX_PAGE_SIZE))\n",
    "    page_size = min(page_size, MAX_PAGE_SIZE)\n",
    "\n",
    "    db_conn = pymysql.connect(host=\"localhost\", user=\"root\", password = \"Alsimar10\", database=\"bechdel\",\n",
    "                              cursorclass=pymysql.cursors.DictCursor)\n",
    "\n",
    "    with db_conn.cursor() as cursor:   # for movies, changing the names and keeping only the columns we want\n",
    "        cursor.execute(\"\"\"SELECT\n",
    "                            M.movieId,\n",
    "                            M.originalTitle,\n",
    "                            M.primaryTitle AS englishTitle,\n",
    "                            B.rating AS bechdelScore,\n",
    "                            M.runtimeMinutes,\n",
    "                            M.startYear AS Year,\n",
    "                            M.movieType,\n",
    "                            M.isAdult,\n",
    "                            case \n",
    "                                when B.rating > 2 then 'True'\n",
    "                                else 'False'\n",
    "                            end as bechdelTest\n",
    "                        FROM Movies M\n",
    "                        JOIN Bechdel B ON B.movieId = M.movieId \n",
    "                        ORDER BY movieId\n",
    "                        LIMIT %s\n",
    "                        OFFSET %s\n",
    "                       \"\"\", (PAGE_SIZE, page * PAGE_SIZE))\n",
    "        movies = cursor.fetchall()\n",
    "        if not movies:\n",
    "            abort (404)\n",
    "        # movies = remove_null_fields(movies)  # removing the null values using the function defined above\n",
    "        movie_ids = list(movies['movies']['movieId'])\n",
    "\n",
    "    with db_conn.cursor() as cursor:\n",
    "        cursor.execute(\"SELECT COUNT(*) AS total FROM Movies\")\n",
    "        total = cursor.fetchone()\n",
    "        last_page = math.ceil(total['total'] / page_size)\n",
    "\n",
    "    db_conn.close() \n",
    "\n",
    "    return {'movies': movies, \n",
    "            'next_page': f'/movies?page={page+1}&page_size={page_size}',\n",
    "              'last_page': f'/movies?page={last_page}&page_size={page_size}',\n",
    "            }"
   ]
  },
  {
   "cell_type": "code",
   "execution_count": 13,
   "id": "c8d7353d",
   "metadata": {},
   "outputs": [
    {
     "name": "stdout",
     "output_type": "stream",
     "text": [
      "{'last page': 'value1', 'movies': [{'movieId': 'subvalue1', 'subkey2': 'subvalue1bis'}, {'movieId': 'subvalue2', 'subkey2': 'subvalue2bis'}], 'next_page': 'value3'}\n"
     ]
    }
   ],
   "source": [
    "big_movie= {\n",
    "    \"last page\": \"value1\",\n",
    "    \"movies\": [{\n",
    "        \"movieId\": \"subvalue1\",\n",
    "        \"subkey2\": \"subvalue1bis\"\n",
    "    }, {\n",
    "        \"movieId\": \"subvalue2\",\n",
    "        \"subkey2\": \"subvalue2bis\"\n",
    "    }],\n",
    "    \"next_page\": \"value3\"\n",
    "}\n",
    "\n",
    "print(big_movie)\n"
   ]
  },
  {
   "cell_type": "code",
   "execution_count": 18,
   "id": "b35c7be2",
   "metadata": {},
   "outputs": [
    {
     "data": {
      "text/plain": [
       "[{'movieId': 'subvalue1', 'subkey2': 'subvalue1bis'},\n",
       " {'movieId': 'subvalue2', 'subkey2': 'subvalue2bis'}]"
      ]
     },
     "execution_count": 18,
     "metadata": {},
     "output_type": "execute_result"
    }
   ],
   "source": [
    "len(big_movie['movies'])\n",
    "big_movie['movies']"
   ]
  },
  {
   "cell_type": "code",
   "execution_count": 26,
   "id": "f8625931",
   "metadata": {},
   "outputs": [
    {
     "data": {
      "text/plain": [
       "['subvalue1', 'subvalue2']"
      ]
     },
     "execution_count": 26,
     "metadata": {},
     "output_type": "execute_result"
    }
   ],
   "source": [
    "list_movieId = []\n",
    "for m in big_movie['movies']:\n",
    "    test = m['movieId']\n",
    "    list_movieId.append(test)\n",
    "list_movieId "
   ]
  },
  {
   "cell_type": "code",
   "execution_count": null,
   "id": "0eab378d",
   "metadata": {},
   "outputs": [],
   "source": [
    "with db_conn.cursor() as cursor:\n",
    "    # SQL query with parameterized IN clause\n",
    "    sql = \"SELECT * FROM your_table_name WHERE client_id IN (%s)\"\n",
    "            \n",
    "    # Generate placeholders for client_ids based on the length of the list\n",
    "    placeholders = ','.join(['%s'] * len(client_ids))\n",
    "            \n",
    "    # Format the SQL query with the placeholders\n",
    "    sql = sql % placeholders\n",
    "            \n",
    "    # Execute the SQL query with client_ids as parameters\n",
    "    cursor.execute(sql, tuple(client_ids))\n",
    "            \n",
    "    # Fetch the query results\n",
    "    result = cursor.fetchall()\n",
    "            \n",
    "    return result\n",
    "            \n",
    "finally:\n",
    "        # Close the database connection\n",
    "        db_conn.close()\n",
    "\n",
    "# Example usage:\n",
    "client_ids = [1001, 1002, 1003]  # List of client IDs\n",
    "data_for_clients = select_data_for_clients(client_ids)\n",
    "print(data_for_clients)\n"
   ]
  },
  {
   "cell_type": "code",
   "execution_count": 27,
   "id": "6e3bf586",
   "metadata": {},
   "outputs": [
    {
     "name": "stdout",
     "output_type": "stream",
     "text": [
      "Collecting flask_swagger_ui\n",
      "  Obtaining dependency information for flask_swagger_ui from https://files.pythonhosted.org/packages/a5/20/df137e8efb744209135f70cb2b00c8917369ae4177370d1fab1789a0675c/flask_swagger_ui-4.11.1-py3-none-any.whl.metadata\n",
      "  Downloading flask_swagger_ui-4.11.1-py3-none-any.whl.metadata (2.4 kB)\n",
      "Requirement already satisfied: flask in c:\\users\\javier\\anaconda3\\lib\\site-packages (from flask_swagger_ui) (2.2.5)\n",
      "Requirement already satisfied: Werkzeug>=2.2.2 in c:\\users\\javier\\anaconda3\\lib\\site-packages (from flask->flask_swagger_ui) (2.2.3)\n",
      "Requirement already satisfied: Jinja2>=3.0 in c:\\users\\javier\\anaconda3\\lib\\site-packages (from flask->flask_swagger_ui) (3.1.2)\n",
      "Requirement already satisfied: itsdangerous>=2.0 in c:\\users\\javier\\anaconda3\\lib\\site-packages (from flask->flask_swagger_ui) (2.0.1)\n",
      "Requirement already satisfied: click>=8.0 in c:\\users\\javier\\anaconda3\\lib\\site-packages (from flask->flask_swagger_ui) (8.0.4)\n",
      "Requirement already satisfied: colorama in c:\\users\\javier\\anaconda3\\lib\\site-packages (from click>=8.0->flask->flask_swagger_ui) (0.4.6)\n",
      "Requirement already satisfied: MarkupSafe>=2.0 in c:\\users\\javier\\anaconda3\\lib\\site-packages (from Jinja2>=3.0->flask->flask_swagger_ui) (2.1.1)\n",
      "Downloading flask_swagger_ui-4.11.1-py3-none-any.whl (1.4 MB)\n",
      "   ---------------------------------------- 0.0/1.4 MB ? eta -:--:--\n",
      "   ---------------------------------------- 0.0/1.4 MB ? eta -:--:--\n",
      "   ---- ----------------------------------- 0.1/1.4 MB 1.7 MB/s eta 0:00:01\n",
      "   ------------------------------------- -- 1.3/1.4 MB 10.2 MB/s eta 0:00:01\n",
      "   ---------------------------------------- 1.4/1.4 MB 9.8 MB/s eta 0:00:00\n",
      "Installing collected packages: flask_swagger_ui\n",
      "Successfully installed flask_swagger_ui-4.11.1\n"
     ]
    }
   ],
   "source": [
    "!pip install flask_swagger_ui"
   ]
  },
  {
   "cell_type": "code",
   "execution_count": null,
   "id": "4db253a0",
   "metadata": {},
   "outputs": [],
   "source": []
  }
 ],
 "metadata": {
  "kernelspec": {
   "display_name": "Python 3 (ipykernel)",
   "language": "python",
   "name": "python3"
  },
  "language_info": {
   "codemirror_mode": {
    "name": "ipython",
    "version": 3
   },
   "file_extension": ".py",
   "mimetype": "text/x-python",
   "name": "python",
   "nbconvert_exporter": "python",
   "pygments_lexer": "ipython3",
   "version": "3.11.5"
  }
 },
 "nbformat": 4,
 "nbformat_minor": 5
}
